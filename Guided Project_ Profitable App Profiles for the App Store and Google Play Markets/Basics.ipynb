{
 "cells": [
  {
   "cell_type": "markdown",
   "metadata": {},
   "source": [
    "# Analyzing App Popularity\n",
    "\n",
    "This project aims to analyze apps in order to understand what attracts users. This will help our super awesome company increase its revenue."
   ]
  },
  {
   "cell_type": "code",
   "execution_count": 2,
   "metadata": {
    "collapsed": true
   },
   "outputs": [],
   "source": [
    "from csv import reader\n",
    "\n",
    "### The Google Play data set ###\n",
    "openedFile = open('googleplaystore.csv')\n",
    "readFile = reader(openedFile)\n",
    "androidApps = list(readFile)\n",
    "androidHeader = androidApps[0]\n",
    "androidApps = androidApps[1:]\n",
    "\n",
    "### The App Store data set ###\n",
    "openedFile = open('AppleStore.csv')\n",
    "readFile = reader(openedFile)\n",
    "iOSApps = list(readFile)\n",
    "iOSHeader = iOSApps[0]\n",
    "iOSApps = iOSApps[1:]"
   ]
  },
  {
   "cell_type": "markdown",
   "metadata": {},
   "source": [
    "**Print first few rows of each data set**"
   ]
  },
  {
   "cell_type": "code",
   "execution_count": 3,
   "metadata": {
    "collapsed": false
   },
   "outputs": [
    {
     "name": "stdout",
     "output_type": "stream",
     "text": [
      "iOS\n",
      "\n",
      "['id', 'track_name', 'size_bytes', 'currency', 'price', 'rating_count_tot', 'rating_count_ver', 'user_rating', 'user_rating_ver', 'ver', 'cont_rating', 'prime_genre', 'sup_devices.num', 'ipadSc_urls.num', 'lang.num', 'vpp_lic']\n",
      "\n",
      "\n",
      "['389801252', 'Instagram', '113954816', 'USD', '0.0', '2161558', '1289', '4.5', '4.0', '10.23', '12+', 'Photo & Video', '37', '0', '29', '1']\n",
      "\n",
      "\n",
      "['529479190', 'Clash of Clans', '116476928', 'USD', '0.0', '2130805', '579', '4.5', '4.5', '9.24.12', '9+', 'Games', '38', '5', '18', '1']\n",
      "\n",
      "\n",
      "['420009108', 'Temple Run', '65921024', 'USD', '0.0', '1724546', '3842', '4.5', '4.0', '1.6.2', '9+', 'Games', '40', '5', '1', '1']\n",
      "\n",
      "\n",
      "\n",
      "ANDROID\n",
      "\n",
      "['App', 'Category', 'Rating', 'Reviews', 'Size', 'Installs', 'Type', 'Price', 'Content Rating', 'Genres', 'Last Updated', 'Current Ver', 'Android Ver']\n",
      "['Coloring book moana', 'ART_AND_DESIGN', '3.9', '967', '14M', '500,000+', 'Free', '0', 'Everyone', 'Art & Design;Pretend Play', 'January 15, 2018', '2.0.0', '4.0.3 and up']\n",
      "\n",
      "\n",
      "['U Launcher Lite – FREE Live Cool Themes, Hide Apps', 'ART_AND_DESIGN', '4.7', '87510', '8.7M', '5,000,000+', 'Free', '0', 'Everyone', 'Art & Design', 'August 1, 2018', '1.2.4', '4.0.3 and up']\n",
      "\n",
      "\n",
      "['Sketch - Draw & Paint', 'ART_AND_DESIGN', '4.5', '215644', '25M', '50,000,000+', 'Free', '0', 'Teen', 'Art & Design', 'June 8, 2018', 'Varies with device', '4.2 and up']\n",
      "\n",
      "\n"
     ]
    }
   ],
   "source": [
    "def explore_data(dataset, start, end, rows_and_columns=False):\n",
    "    dataset_slice = dataset[start:end]    \n",
    "    for row in dataset_slice:\n",
    "        print(row)\n",
    "        print('\\n') # adds a new (empty) line after each row\n",
    "\n",
    "    if rows_and_columns:\n",
    "        print('Number of rows:', len(dataset))\n",
    "        print('Number of columns:', len(dataset[0]))\n",
    "\n",
    "print(\"iOS\\n\")\n",
    "print(iOSHeader)\n",
    "print(\"\\n\")\n",
    "explore_data(iOSApps, 1, 4)\n",
    "print(\"\\nANDROID\\n\")\n",
    "print(androidHeader)\n",
    "explore_data(androidApps,1,4)"
   ]
  },
  {
   "cell_type": "code",
   "execution_count": 4,
   "metadata": {
    "collapsed": false
   },
   "outputs": [
    {
     "name": "stdout",
     "output_type": "stream",
     "text": [
      "iOS Apps: 7197\n",
      "iOS Rows: 16\n"
     ]
    }
   ],
   "source": [
    "\n",
    "print(\"iOS Apps: \" + str(len(iOSApps)))\n",
    "print(\"iOS Rows: \" + str(len(iOSHeader)))"
   ]
  },
  {
   "cell_type": "code",
   "execution_count": 5,
   "metadata": {
    "collapsed": false
   },
   "outputs": [
    {
     "name": "stdout",
     "output_type": "stream",
     "text": [
      "Android Apps: 10841\n",
      "Android Rows: 13\n"
     ]
    }
   ],
   "source": [
    "print(\"Android Apps: \" + str(len(androidApps)))\n",
    "print(\"Android Rows: \" + str(len(androidHeader)))"
   ]
  },
  {
   "cell_type": "markdown",
   "metadata": {},
   "source": [
    "Documentation of these data sets can be found: [here](https://www.kaggle.com/ramamet4/app-store-apple-data-set-10k-apps/home)"
   ]
  },
  {
   "cell_type": "markdown",
   "metadata": {
    "collapsed": true
   },
   "source": [
    "# Deleting Bad Data\n",
    "\n",
    "One of the entries in the Google Play data set has incorrect data, which is described in their discussion forums. We first must confirm that the entry is bad, and then remove it"
   ]
  },
  {
   "cell_type": "code",
   "execution_count": 6,
   "metadata": {
    "collapsed": false
   },
   "outputs": [
    {
     "name": "stdout",
     "output_type": "stream",
     "text": [
      "['App', 'Category', 'Rating', 'Reviews', 'Size', 'Installs', 'Type', 'Price', 'Content Rating', 'Genres', 'Last Updated', 'Current Ver', 'Android Ver']\n",
      "['Life Made WI-Fi Touchscreen Photo Frame', '1.9', '19', '3.0M', '1,000+', 'Free', '0', 'Everyone', '', 'February 11, 2018', '1.0.19', '4.0 and up']\n"
     ]
    }
   ],
   "source": [
    "print(androidHeader)\n",
    "print(androidApps[10472])"
   ]
  },
  {
   "cell_type": "markdown",
   "metadata": {},
   "source": [
    "We can see (before I run this whole notebook), that the rating is 19 when it should likely be 1.9"
   ]
  },
  {
   "cell_type": "code",
   "execution_count": 7,
   "metadata": {
    "collapsed": false
   },
   "outputs": [
    {
     "name": "stdout",
     "output_type": "stream",
     "text": [
      "['Life Made WI-Fi Touchscreen Photo Frame', '1.9', '19', '3.0M', '1,000+', 'Free', '0', 'Everyone', '', 'February 11, 2018', '1.0.19', '4.0 and up']\n"
     ]
    }
   ],
   "source": [
    "print(androidApps[10472])"
   ]
  },
  {
   "cell_type": "code",
   "execution_count": 8,
   "metadata": {
    "collapsed": false
   },
   "outputs": [],
   "source": [
    "del androidApps[10472]"
   ]
  },
  {
   "cell_type": "code",
   "execution_count": 9,
   "metadata": {
    "collapsed": false
   },
   "outputs": [
    {
     "name": "stdout",
     "output_type": "stream",
     "text": [
      "['osmino Wi-Fi: free WiFi', 'TOOLS', '4.2', '134203', '4.1M', '10,000,000+', 'Free', '0', 'Everyone', 'Tools', 'August 7, 2018', '6.06.14', '4.4 and up']\n"
     ]
    }
   ],
   "source": [
    "print(androidApps[10472])"
   ]
  },
  {
   "cell_type": "code",
   "execution_count": 10,
   "metadata": {
    "collapsed": false
   },
   "outputs": [
    {
     "name": "stdout",
     "output_type": "stream",
     "text": [
      "The number of duplicate apps is:\n",
      "1181\n",
      "\n",
      "Some duplicate apps include:\n",
      "\n",
      "['Quick PDF Scanner + OCR FREE', 'Box', 'Google My Business', 'ZOOM Cloud Meetings', 'join.me - Simple Meetings']\n"
     ]
    }
   ],
   "source": [
    "# Checking for Duplicate Entries\n",
    "\n",
    "duplicateApps = []\n",
    "uniqueApps    = []\n",
    "\n",
    "for app in androidApps:\n",
    "    name = app[0]\n",
    "    if name in uniqueApps:\n",
    "        duplicateApps.append(name)\n",
    "    else:\n",
    "        uniqueApps.append(name)\n",
    "  \n",
    "print(\"The number of duplicate apps is:\")\n",
    "print(len(duplicateApps))\n",
    "\n",
    "print(\"\\nSome duplicate apps include:\\n\")\n",
    "print(duplicateApps[0:5])"
   ]
  },
  {
   "cell_type": "markdown",
   "metadata": {},
   "source": [
    "Entries are listed multiple times because data was added multiple times. Rather than removing a random one, it would make more sense to remove all but the most recent one. The way we can find this is to check the number of review. The entry with the highest number of review is the most recent one."
   ]
  },
  {
   "cell_type": "markdown",
   "metadata": {},
   "source": [
    "To remove duplicates, we will create a dictionary where each key is a unique app name and the corresponding value is the hightest number of review. Create a new datasat with only one entry per app."
   ]
  },
  {
   "cell_type": "code",
   "execution_count": 11,
   "metadata": {
    "collapsed": false
   },
   "outputs": [
    {
     "name": "stdout",
     "output_type": "stream",
     "text": [
      "9659\n"
     ]
    }
   ],
   "source": [
    "maxReviews = {}\n",
    "\n",
    "for app in androidApps:\n",
    "    name = app[0]\n",
    "    numReviews = float(app[3])\n",
    "    \n",
    "    if name in maxReviews and maxReviews[name] < numReviews:\n",
    "        maxReviews[name] = numReviews\n",
    "        # We only want it to override if more recent, OR to be defined if it's unique/not in there already.\n",
    "        \n",
    "    elif name not in maxReviews:\n",
    "        maxReviews[name] = numReviews\n",
    "        \n",
    "print(len(maxReviews))"
   ]
  },
  {
   "cell_type": "code",
   "execution_count": 12,
   "metadata": {
    "collapsed": false
   },
   "outputs": [
    {
     "name": "stdout",
     "output_type": "stream",
     "text": [
      "9659\n",
      "9659\n"
     ]
    }
   ],
   "source": [
    "# At this point, we want to have a nice clean dataset that meets\n",
    "# the above criterion that there are no duplicate entries and only the\n",
    "# most recent entry is kept.\n",
    "\n",
    "androidClean = []\n",
    "alreadyAdded = []\n",
    "\n",
    "for app in androidApps:\n",
    "    name = app[0]\n",
    "    numReviews = float(app[3])\n",
    "    \n",
    "    # If the entry is the most recent one, and we haven't already added it,\n",
    "    # add it to the nice, clean list and keep track of its name. \n",
    "    # This is because duplicate entries might have the same number of reviews.\n",
    "    \n",
    "    if (numReviews == maxReviews[name]) and (name not in alreadyAdded):\n",
    "        androidClean.append(app)\n",
    "        alreadyAdded.append(name)\n",
    "        \n",
    "print(len(androidClean))\n",
    "print(len(alreadyAdded))"
   ]
  },
  {
   "cell_type": "code",
   "execution_count": 13,
   "metadata": {
    "collapsed": false
   },
   "outputs": [
    {
     "name": "stdout",
     "output_type": "stream",
     "text": [
      "7197\n"
     ]
    }
   ],
   "source": [
    "maxiOSReviews = {}\n",
    "\n",
    "for app in iOSApps:\n",
    "    name = app[0]\n",
    "    numReviews = float(app[5])\n",
    "    \n",
    "    if name in maxiOSReviews and maxiOSReviews[name] < numReviews:\n",
    "        maxiOSReviews[name] = numReviews\n",
    "        # We only want it to override if more recent, OR to be defined if it's unique/not in there already.\n",
    "        \n",
    "    elif name not in maxiOSReviews:\n",
    "        maxiOSReviews[name] = numReviews\n",
    "        \n",
    "print(len(maxiOSReviews))"
   ]
  },
  {
   "cell_type": "code",
   "execution_count": 14,
   "metadata": {
    "collapsed": false
   },
   "outputs": [
    {
     "name": "stdout",
     "output_type": "stream",
     "text": [
      "7195\n",
      "7195\n"
     ]
    }
   ],
   "source": [
    "iOSClean = []\n",
    "existingNames = []\n",
    "\n",
    "for app in iOSApps:\n",
    "    name = app[1]\n",
    "\n",
    "for app in iOSApps:\n",
    "    name = app[1]   # Second value \"track_name\" is the app name\n",
    "    numRatings = float(app[5])  # 6th value is total rating count for all versions\n",
    "    \n",
    "    # If the entry is the most recent one, and we haven't already added it,\n",
    "    # add it to the nice, clean list and keep track of its name. \n",
    "    # This is because duplicate entries might have the same number of reviews.\n",
    "    \n",
    "    if (name not in existingNames):\n",
    "        iOSClean.append(app)\n",
    "        existingNames.append(name)\n",
    "        \n",
    "print(len(iOSClean))\n",
    "print(len(existingNames))"
   ]
  },
  {
   "cell_type": "markdown",
   "metadata": {},
   "source": [
    "# Removing non-English characters\n",
    "\n",
    "At this point, we have a nice, clean data set with no duplicate entries.\n",
    "But.... it's not that clean as we want to analyze apps directed towards English-speaking folk. To do this, we want to see if the name contains a symbol that isn't English, or numbers, punctuation marks, or other common symbols.\n",
    "\n",
    "Each character has an associated ASCII number. You can check the number of each character using the \"`ord()`\" built-in function, and then see if it fits within a certain range. In our case, if the number is between 0 and 127 (inclusive), it is not in the common set of English characters.\n",
    "\n",
    "In Python, strings are indexable and iterable, so you can select an individual character or iterate on the string using a `for` loop.\n",
    "\n",
    "We'll write a function to do this below:"
   ]
  },
  {
   "cell_type": "code",
   "execution_count": 15,
   "metadata": {
    "collapsed": false
   },
   "outputs": [],
   "source": [
    "def isEnglish(string):\n",
    "    \n",
    "    numNonAscii = 0\n",
    "    isEnglish = True\n",
    "    \n",
    "    for char in string:\n",
    "        if ord(char) > 127:    # character not within common English set.\n",
    "            numNonAscii += 1\n",
    "    \n",
    "    if numNonAscii > 3:         # We are allowing up to 3 non-ASCII char.\n",
    "        isEnglish = False\n",
    "    \n",
    "    return isEnglish\n",
    "           "
   ]
  },
  {
   "cell_type": "code",
   "execution_count": 16,
   "metadata": {
    "collapsed": false
   },
   "outputs": [
    {
     "name": "stdout",
     "output_type": "stream",
     "text": [
      "True\n"
     ]
    }
   ],
   "source": [
    "print(isEnglish(\"Instagram\"))"
   ]
  },
  {
   "cell_type": "code",
   "execution_count": 17,
   "metadata": {
    "collapsed": false
   },
   "outputs": [
    {
     "name": "stdout",
     "output_type": "stream",
     "text": [
      "False\n"
     ]
    }
   ],
   "source": [
    "print(isEnglish('爱奇艺PPS -《欢乐颂2》电视剧热播'))"
   ]
  },
  {
   "cell_type": "code",
   "execution_count": 18,
   "metadata": {
    "collapsed": false
   },
   "outputs": [
    {
     "name": "stdout",
     "output_type": "stream",
     "text": [
      "True\n"
     ]
    }
   ],
   "source": [
    "print(isEnglish('Docs To Go™ Free Office Suite'))"
   ]
  },
  {
   "cell_type": "markdown",
   "metadata": {},
   "source": [
    "At this point, we should use this function to clean both data sets."
   ]
  },
  {
   "cell_type": "code",
   "execution_count": 19,
   "metadata": {
    "collapsed": false
   },
   "outputs": [],
   "source": [
    "englishAndroidApps = []\n",
    "englishiOSApps     = []\n",
    "\n",
    "for app in androidClean:\n",
    "    name = app[0]\n",
    "    if isEnglish(name):\n",
    "        englishAndroidApps.append(app)\n",
    "\n",
    "for app in iOSApps:\n",
    "    name = app[1]\n",
    "    if isEnglish(name):\n",
    "        englishiOSApps.append(app)       "
   ]
  },
  {
   "cell_type": "code",
   "execution_count": 20,
   "metadata": {
    "collapsed": false
   },
   "outputs": [
    {
     "name": "stdout",
     "output_type": "stream",
     "text": [
      "9614\n"
     ]
    }
   ],
   "source": [
    "print(len(englishAndroidApps))"
   ]
  },
  {
   "cell_type": "code",
   "execution_count": 21,
   "metadata": {
    "collapsed": false
   },
   "outputs": [
    {
     "name": "stdout",
     "output_type": "stream",
     "text": [
      "6183\n"
     ]
    }
   ],
   "source": [
    "print(len(englishiOSApps))"
   ]
  },
  {
   "cell_type": "markdown",
   "metadata": {
    "collapsed": true
   },
   "source": [
    "# Isolating Free Apps\n",
    "\n",
    "At this point, we have:\n",
    "* Removed inaccurate data\n",
    "* Removed duplicate app entries, leaving only the most recent entry\n",
    "* Removed non-English apps (essentially, but removing every app name that has more than 3 non-English ASCII chars in it.)\n",
    "\n",
    "But.... now we need to isolate free apps for our analysis, as we only build apps that are free to download and install."
   ]
  },
  {
   "cell_type": "code",
   "execution_count": 22,
   "metadata": {
    "collapsed": false
   },
   "outputs": [
    {
     "name": "stdout",
     "output_type": "stream",
     "text": [
      "Free iOS Apps: \n",
      "3222\n",
      "Free android Apps: \n",
      "8864\n"
     ]
    }
   ],
   "source": [
    "# Loop through each data set (android and iOS) to isolate\n",
    "# the free apps in separate lists. Make sure that the correct\n",
    "# index is used to refer to the price.\n",
    "\n",
    "# In the iOS data [here](https://www.kaggle.com/ramamet4/app-store-apple-data-set-10k-apps/home)\n",
    "# price is the 5th element (4th index in Python.)\n",
    "\n",
    "# NOTE: \"Free\" is the string 0.0 here, not 0.\n",
    "\n",
    "iOSFreeApps = []\n",
    "\n",
    "for app in englishiOSApps:\n",
    "    price = app[4]\n",
    "    if price == \"0.0\":\n",
    "        iOSFreeApps.append(app)\n",
    "  \n",
    "print(\"Free iOS Apps: \")\n",
    "print(len(iOSFreeApps))\n",
    "\n",
    "# In the android data [here](https://www.kaggle.com/lava18/google-play-store-apps/home),\n",
    "# the 8th element (7th index) corresponds with price.\n",
    "\n",
    "# NOTE: Free is the string 0 here, not 0.0\n",
    "\n",
    "androidFreeApps = []\n",
    "for app in englishAndroidApps:\n",
    "    price = app[7]\n",
    "    if price == \"0\":\n",
    "        androidFreeApps.append(app)\n",
    "  \n",
    "print(\"Free android Apps: \")\n",
    "print(len(androidFreeApps))\n"
   ]
  },
  {
   "cell_type": "markdown",
   "metadata": {
    "collapsed": true
   },
   "source": [
    "# Analyzing Common Genres for Each Market\n",
    "\n",
    "As mentioned at the beginning, ouraim is to determine the kind of apps that are likely to attract more users because more people = more users = more money.\n",
    "\n",
    "To validate our app ideas, we follow these steps:\n",
    "\n",
    "1. Build a minimal Android version and add to Google Play.\n",
    "2. If app has a good response, develop further.\n",
    "3. If profitable after 6 months, also build iOS version and add to app store.\n",
    "\n",
    "Although we are testing with android apps first, the app needs to be successful in both markets. \n",
    "\n",
    "To analyze, we will build a frequency table for some columns in our data sets.\n",
    "\n",
    "The iOS data set includes:\n",
    "\n",
    "\"id\" : App ID   \n",
    "\"track_name\": App Name  \n",
    "\"size_bytes\": Size (in Bytes)  \n",
    "\"currency\": Currency Type  \n",
    "\"price\": Price amount   \n",
    "\"rating_count_tot\": User Rating counts (for all version)  \n",
    "\"rating_count_ver\": User Rating counts (for current version)  \n",
    "\"user_rating\" : Average User Rating value (for all version)  \n",
    "\"user_rating_ver\": Average User Rating value (for current version)  \n",
    "\"ver\" : Latest version code  \n",
    "\"cont_rating\": Content Rating  \n",
    "\"prime_genre\": Primary Genre  \n",
    "\"sup_devices.num\": Number of supporting devices  \n",
    "\"ipadSc_urls.num\": Number of screenshots showed for display  \n",
    "\"lang.num\": Number of supported languages  \n",
    "\"vpp_lic\": Vpp Device Based Licensing Enabled  \n",
    "\n",
    "The android data set includes:\n",
    "\n",
    "AppApplication name  \n",
    "CategoryCategory the app belongs to  \n",
    "RatingOverall user rating of the app (as when scraped)  \n",
    "ReviewsNumber of user reviews for the app (as when scraped)  \n",
    "SizeSize of the app (as when scraped)  \n",
    "InstallsNumber of user downloads/installs for the app (as when scraped)  \n",
    "TypePaid or Free  \n",
    "PricePrice of the app (as when scraped)  \n",
    "Content RatingAge group the app is targeted at - Children / Mature 21+ / Adult  \n",
    "GenresAn app can belong to multiple genres (apart from its main category). For eg, a musical family game will belong to Music, Game, Family genres.  \n",
    "Last UpdatedDate when the app was last updated on Play Store (as when scraped)  \n",
    "Current VerCurrent version of the app available on Play Store (as when scraped)  \n",
    "Android VerMin required Android version (as when scraped)  \n",
    "\n",
    "At this point, we have already isolated free apps. To determine the most common genre, we probably care about overall rating, number of reviews, and the \"genre\" field.\n",
    "\n",
    "**For iOS apps, this corresponds to:**\n",
    "\n",
    "Index 5: \"rating_count_tot\": User Rating counts (for all version)\n",
    "\n",
    "Index 7:\"user_rating\" : Average User Rating value (for all version)\n",
    "\n",
    "Index 11: \"prime_genre\": Primary Genre\n",
    "\n",
    "**For android apps, this corresponds to:**\n",
    "\n",
    "Index 1: Category- apps can have multiple genres, so this is a better number to look at.\n",
    "\n",
    "Index 2: RatingOverall user rating of the app (as when scraped)\n",
    "\n",
    "Index 3: ReviewsNumber of user reviews for the app (as when scraped)\n",
    "\n",
    "Index 9:  GenresAn app can belong to multiple genres (apart from its main category). For eg, a musical family game will belong to Music, Game, Family genres."
   ]
  },
  {
   "cell_type": "code",
   "execution_count": 55,
   "metadata": {
    "collapsed": false
   },
   "outputs": [],
   "source": [
    "# Generate frequency tables for iOS\n",
    "\n",
    "iOSFreqTable = {}\n",
    "\n",
    "for app in iOSFreeApps:\n",
    "    numRatings = int(app[5])\n",
    "    userRating = float(app[7])\n",
    "    primeGenre = app[11]\n",
    "    \n",
    "    if primeGenre in iOSFreqTable:\n",
    "        iOSFreqTable[primeGenre] += 1\n",
    "    else:\n",
    "        iOSFreqTable[primeGenre] = 1\n",
    "\n",
    "# That's fine and dandy for one value, but what I really need\n",
    "# is a function for generating frequency tables for a particular index\n",
    "\n",
    "def createFreqTable(dataSet, index):\n",
    "    total = 0\n",
    "    freqTable = {}\n",
    "    for row in dataSet:\n",
    "        total += 1\n",
    "        value = row[index]\n",
    "        if value in freqTable:\n",
    "            freqTable[value] += 1\n",
    "        else:\n",
    "            freqTable[value] = 1    \n",
    "        \n",
    "    return freqTable, total\n",
    "\n",
    "iOSFreqTable, total = createFreqTable(iOSFreeApps, 11)\n",
    "\n",
    "#print(iOSFreqTable)\n",
    "#print(total)\n",
    "\n",
    "# But... welp don't have a way of visualizing this yet, so it's better\n",
    "# that we make a frequency table of percentages.\n",
    "\n",
    "def convertToProportion(freqTable, total):\n",
    "    propTable = {}\n",
    "    for key in freqTable:\n",
    "        count = freqTable[key]\n",
    "        proportion = (count/total)*100\n",
    "        propTable[key] = proportion\n",
    "        \n",
    "    return propTable\n",
    "        \n",
    "convertToProportion(iOSFreqTable, total)\n",
    "\n",
    " \n",
    "def displayTable(table):\n",
    "    \n",
    "    displayTable = []\n",
    "    for key in table:\n",
    "        valAsTuple = (table[key], key)\n",
    "        displayTable.append(valAsTuple)\n",
    "        \n",
    "        sortedTable = sorted(displayTable, reverse = True)\n",
    "    for entry in sortedTable:\n",
    "        print(entry[1], ':', entry[0])\n",
    "        \n",
    "# So, I have a bunch of functions:\n",
    "#    freqTable, total = createFreqTable(dataSet, index)\n",
    "#    propTable = convertToProportion(table, total)\n",
    "#    displayTable(table)\n"
   ]
  },
  {
   "cell_type": "markdown",
   "metadata": {},
   "source": [
    "Great, now I have funtions! Now to actual split them into useful things. First, iOS apps.\n",
    "\n",
    "# iOS Genre Analysis"
   ]
  },
  {
   "cell_type": "code",
   "execution_count": 56,
   "metadata": {
    "collapsed": false
   },
   "outputs": [
    {
     "name": "stdout",
     "output_type": "stream",
     "text": [
      "Games : 58.16263190564867\n",
      "Entertainment : 7.883302296710118\n",
      "Photo & Video : 4.9658597144630665\n",
      "Education : 3.662321539416512\n",
      "Social Networking : 3.2898820608317814\n",
      "Shopping : 2.60707635009311\n",
      "Utilities : 2.5139664804469275\n",
      "Sports : 2.1415270018621975\n",
      "Music : 2.0484171322160147\n",
      "Health & Fitness : 2.0173805090006205\n",
      "Productivity : 1.7380509000620732\n",
      "Lifestyle : 1.5828677839851024\n",
      "News : 1.3345747982619491\n",
      "Travel : 1.2414649286157666\n",
      "Finance : 1.1173184357541899\n",
      "Weather : 0.8690254500310366\n",
      "Food & Drink : 0.8069522036002483\n",
      "Reference : 0.5586592178770949\n",
      "Business : 0.5276225946617008\n",
      "Book : 0.4345127250155183\n",
      "Navigation : 0.186219739292365\n",
      "Medical : 0.186219739292365\n",
      "Catalogs : 0.12414649286157665\n"
     ]
    }
   ],
   "source": [
    "# Create iOS frequency table by count\n",
    "iOSFreqTable, total = createFreqTable(iOSFreeApps, 11)\n",
    "\n",
    "# print(iOSFreqTable)\n",
    "# Convert to table of percentages\n",
    "iOSPropTable = convertToProportion(iOSFreqTable, total)\n",
    "#print(iOSPropTable)\n",
    "\n",
    "# Sort and display the table\n",
    "displayTable(iOSPropTable)"
   ]
  },
  {
   "cell_type": "markdown",
   "metadata": {},
   "source": [
    "The vast majority of free, English apps in the iOS app store are games. (Games and entertainment make up about 65% of this category.)\n",
    "\n",
    "But.... just because there are more apps that are for fun things doesn't mean that people use them the most. It's then worth investigating the number of users that these apps have.\n",
    "\n",
    "And... now to use the same functions but for android.\n",
    "\n",
    "# Android App Analysis\n"
   ]
  },
  {
   "cell_type": "code",
   "execution_count": 57,
   "metadata": {
    "collapsed": false
   },
   "outputs": [
    {
     "name": "stdout",
     "output_type": "stream",
     "text": [
      "FAMILY : 18.907942238267147\n",
      "GAME : 9.724729241877256\n",
      "TOOLS : 8.461191335740072\n",
      "BUSINESS : 4.591606498194946\n",
      "LIFESTYLE : 3.9034296028880866\n",
      "PRODUCTIVITY : 3.892148014440433\n",
      "FINANCE : 3.7003610108303246\n",
      "MEDICAL : 3.531137184115524\n",
      "SPORTS : 3.395758122743682\n",
      "PERSONALIZATION : 3.3167870036101084\n",
      "COMMUNICATION : 3.2378158844765346\n",
      "HEALTH_AND_FITNESS : 3.0798736462093865\n",
      "PHOTOGRAPHY : 2.944494584837545\n",
      "NEWS_AND_MAGAZINES : 2.7978339350180503\n",
      "SOCIAL : 2.6624548736462095\n",
      "TRAVEL_AND_LOCAL : 2.33528880866426\n",
      "SHOPPING : 2.2450361010830324\n",
      "BOOKS_AND_REFERENCE : 2.1435018050541514\n",
      "DATING : 1.861462093862816\n",
      "VIDEO_PLAYERS : 1.7937725631768955\n",
      "MAPS_AND_NAVIGATION : 1.3989169675090252\n",
      "FOOD_AND_DRINK : 1.2409747292418771\n",
      "EDUCATION : 1.1620036101083033\n",
      "ENTERTAINMENT : 0.9589350180505415\n",
      "LIBRARIES_AND_DEMO : 0.9363718411552346\n",
      "AUTO_AND_VEHICLES : 0.9250902527075812\n",
      "HOUSE_AND_HOME : 0.8235559566787004\n",
      "WEATHER : 0.8009927797833934\n",
      "EVENTS : 0.7107400722021661\n",
      "PARENTING : 0.6543321299638989\n",
      "ART_AND_DESIGN : 0.6430505415162455\n",
      "COMICS : 0.6204873646209386\n",
      "BEAUTY : 0.5979241877256317\n"
     ]
    }
   ],
   "source": [
    "# Create iOS frequency table by count\n",
    "androidFreqTable, total = createFreqTable(androidFreeApps, 1)\n",
    "\n",
    "# print(iOSFreqTable)\n",
    "# Convert to table of percentages\n",
    "androidPropTable = convertToProportion(androidFreqTable, total)\n",
    "#print(iOSPropTable)\n",
    "\n",
    "# Sort and display the table\n",
    "displayTable(androidPropTable)"
   ]
  },
  {
   "cell_type": "markdown",
   "metadata": {},
   "source": [
    "Welp... It's unfortunate that the categories don't seem to overlap at all... This \"family\" shenanigans is top at 18%, with \"games\" at 9.72%. But, family actually means kids games? Which is weird, but whatever. We'll also look into the \"genre\" category too."
   ]
  },
  {
   "cell_type": "code",
   "execution_count": 58,
   "metadata": {
    "collapsed": false
   },
   "outputs": [
    {
     "name": "stdout",
     "output_type": "stream",
     "text": [
      "Tools : 8.449909747292418\n",
      "Entertainment : 6.069494584837545\n",
      "Education : 5.347472924187725\n",
      "Business : 4.591606498194946\n",
      "Productivity : 3.892148014440433\n",
      "Lifestyle : 3.892148014440433\n",
      "Finance : 3.7003610108303246\n",
      "Medical : 3.531137184115524\n",
      "Sports : 3.463447653429603\n",
      "Personalization : 3.3167870036101084\n",
      "Communication : 3.2378158844765346\n",
      "Action : 3.1024368231046933\n",
      "Health & Fitness : 3.0798736462093865\n",
      "Photography : 2.944494584837545\n",
      "News & Magazines : 2.7978339350180503\n",
      "Social : 2.6624548736462095\n",
      "Travel & Local : 2.3240072202166067\n",
      "Shopping : 2.2450361010830324\n",
      "Books & Reference : 2.1435018050541514\n",
      "Simulation : 2.0419675090252705\n",
      "Dating : 1.861462093862816\n",
      "Arcade : 1.8501805054151623\n",
      "Video Players & Editors : 1.7712093862815883\n",
      "Casual : 1.7599277978339352\n",
      "Maps & Navigation : 1.3989169675090252\n",
      "Food & Drink : 1.2409747292418771\n",
      "Puzzle : 1.128158844765343\n",
      "Racing : 0.9927797833935018\n",
      "Role Playing : 0.9363718411552346\n",
      "Libraries & Demo : 0.9363718411552346\n",
      "Auto & Vehicles : 0.9250902527075812\n",
      "Strategy : 0.9138086642599278\n",
      "House & Home : 0.8235559566787004\n",
      "Weather : 0.8009927797833934\n",
      "Events : 0.7107400722021661\n",
      "Adventure : 0.6768953068592057\n",
      "Comics : 0.6092057761732852\n",
      "Beauty : 0.5979241877256317\n",
      "Art & Design : 0.5979241877256317\n",
      "Parenting : 0.4963898916967509\n",
      "Card : 0.45126353790613716\n",
      "Casino : 0.42870036101083037\n",
      "Trivia : 0.41741877256317694\n",
      "Educational;Education : 0.39485559566787\n",
      "Board : 0.3835740072202166\n",
      "Educational : 0.3722924187725632\n",
      "Education;Education : 0.33844765342960287\n",
      "Word : 0.2594765342960289\n",
      "Casual;Pretend Play : 0.236913357400722\n",
      "Music : 0.2030685920577617\n",
      "Racing;Action & Adventure : 0.16922382671480143\n",
      "Puzzle;Brain Games : 0.16922382671480143\n",
      "Entertainment;Music & Video : 0.16922382671480143\n",
      "Casual;Brain Games : 0.13537906137184114\n",
      "Casual;Action & Adventure : 0.13537906137184114\n",
      "Arcade;Action & Adventure : 0.12409747292418773\n",
      "Action;Action & Adventure : 0.10153429602888085\n",
      "Educational;Pretend Play : 0.09025270758122744\n",
      "Simulation;Action & Adventure : 0.078971119133574\n",
      "Parenting;Education : 0.078971119133574\n",
      "Entertainment;Brain Games : 0.078971119133574\n",
      "Board;Brain Games : 0.078971119133574\n",
      "Parenting;Music & Video : 0.06768953068592057\n",
      "Educational;Brain Games : 0.06768953068592057\n",
      "Casual;Creativity : 0.06768953068592057\n",
      "Art & Design;Creativity : 0.06768953068592057\n",
      "Education;Pretend Play : 0.056407942238267145\n",
      "Role Playing;Pretend Play : 0.04512635379061372\n",
      "Education;Creativity : 0.04512635379061372\n",
      "Role Playing;Action & Adventure : 0.033844765342960284\n",
      "Puzzle;Action & Adventure : 0.033844765342960284\n",
      "Entertainment;Creativity : 0.033844765342960284\n",
      "Entertainment;Action & Adventure : 0.033844765342960284\n",
      "Educational;Creativity : 0.033844765342960284\n",
      "Educational;Action & Adventure : 0.033844765342960284\n",
      "Education;Music & Video : 0.033844765342960284\n",
      "Education;Brain Games : 0.033844765342960284\n",
      "Education;Action & Adventure : 0.033844765342960284\n",
      "Adventure;Action & Adventure : 0.033844765342960284\n",
      "Video Players & Editors;Music & Video : 0.02256317689530686\n",
      "Sports;Action & Adventure : 0.02256317689530686\n",
      "Simulation;Pretend Play : 0.02256317689530686\n",
      "Puzzle;Creativity : 0.02256317689530686\n",
      "Music;Music & Video : 0.02256317689530686\n",
      "Entertainment;Pretend Play : 0.02256317689530686\n",
      "Casual;Education : 0.02256317689530686\n",
      "Board;Action & Adventure : 0.02256317689530686\n",
      "Video Players & Editors;Creativity : 0.01128158844765343\n",
      "Trivia;Education : 0.01128158844765343\n",
      "Travel & Local;Action & Adventure : 0.01128158844765343\n",
      "Tools;Education : 0.01128158844765343\n",
      "Strategy;Education : 0.01128158844765343\n",
      "Strategy;Creativity : 0.01128158844765343\n",
      "Strategy;Action & Adventure : 0.01128158844765343\n",
      "Simulation;Education : 0.01128158844765343\n",
      "Role Playing;Brain Games : 0.01128158844765343\n",
      "Racing;Pretend Play : 0.01128158844765343\n",
      "Puzzle;Education : 0.01128158844765343\n",
      "Parenting;Brain Games : 0.01128158844765343\n",
      "Music & Audio;Music & Video : 0.01128158844765343\n",
      "Lifestyle;Pretend Play : 0.01128158844765343\n",
      "Lifestyle;Education : 0.01128158844765343\n",
      "Health & Fitness;Education : 0.01128158844765343\n",
      "Health & Fitness;Action & Adventure : 0.01128158844765343\n",
      "Entertainment;Education : 0.01128158844765343\n",
      "Communication;Creativity : 0.01128158844765343\n",
      "Comics;Creativity : 0.01128158844765343\n",
      "Casual;Music & Video : 0.01128158844765343\n",
      "Card;Action & Adventure : 0.01128158844765343\n",
      "Books & Reference;Education : 0.01128158844765343\n",
      "Art & Design;Pretend Play : 0.01128158844765343\n",
      "Art & Design;Action & Adventure : 0.01128158844765343\n",
      "Arcade;Pretend Play : 0.01128158844765343\n",
      "Adventure;Education : 0.01128158844765343\n"
     ]
    }
   ],
   "source": [
    "# Create iOS frequency table by count\n",
    "androidFreqTable, total = createFreqTable(androidFreeApps, -4)\n",
    "\n",
    "# print(iOSFreqTable)\n",
    "# Convert to table of percentages\n",
    "androidPropTable = convertToProportion(androidFreqTable, total)\n",
    "#print(iOSPropTable)\n",
    "\n",
    "# Sort and display the table\n",
    "displayTable(androidPropTable)"
   ]
  },
  {
   "cell_type": "markdown",
   "metadata": {},
   "source": [
    "There are a crazy amount of genres, so that's probably not super useful for us.\n",
    "\n",
    "Overall, the iOS App Store has fun things, but Google Play has some fun things and some practical things. \n",
    "\n",
    "But again, this is purely by number of apps, not how many people use them, which we'll analyze next.\n",
    "\n",
    "Some other helpful notes that I didn't read before I just did all of that...\n",
    "\n",
    "Dictionaries don't have order, so we can't use those to analyze frequeny tables. You can technically use the \"sorted()\"  function on any iterable data type (lists, dictionaries, and tuples), but it's pretty useless on dictionaries but it only considers and returns the keys, not values, and doesn't really even sort them.\n",
    "\n",
    "But..... if we turn the dictionary into a list of tuples where the tuple contains the key and value, we can do something with that. They actually give us a displayTable function, so my cleaned up version of their functions is below."
   ]
  },
  {
   "cell_type": "code",
   "execution_count": 78,
   "metadata": {
    "collapsed": false
   },
   "outputs": [
    {
     "name": "stdout",
     "output_type": "stream",
     "text": [
      "Games  :  58.16263190564867\n",
      "Entertainment  :  7.883302296710118\n",
      "Photo & Video  :  4.9658597144630665\n",
      "Education  :  3.662321539416512\n",
      "Social Networking  :  3.2898820608317814\n",
      "Shopping  :  2.60707635009311\n",
      "Utilities  :  2.5139664804469275\n",
      "Sports  :  2.1415270018621975\n",
      "Music  :  2.0484171322160147\n",
      "Health & Fitness  :  2.0173805090006205\n",
      "Productivity  :  1.7380509000620732\n",
      "Lifestyle  :  1.5828677839851024\n",
      "News  :  1.3345747982619491\n",
      "Travel  :  1.2414649286157666\n",
      "Finance  :  1.1173184357541899\n",
      "Weather  :  0.8690254500310366\n",
      "Food & Drink  :  0.8069522036002483\n",
      "Reference  :  0.5586592178770949\n",
      "Business  :  0.5276225946617008\n",
      "Book  :  0.4345127250155183\n",
      "Navigation  :  0.186219739292365\n",
      "Medical  :  0.186219739292365\n",
      "Catalogs  :  0.12414649286157665\n"
     ]
    }
   ],
   "source": [
    "def genFreqTable(dataSet, index):\n",
    "    total = 0\n",
    "    freqTable = {}\n",
    "    for row in dataSet:\n",
    "        total += 1\n",
    "        value = row[index]\n",
    "        if value in freqTable:\n",
    "            freqTable[value] += 1\n",
    "        else:\n",
    "            freqTable[value] = 1    \n",
    "        \n",
    "    percentageTable = {}\n",
    "    for key in freqTable:\n",
    "        percentage = (freqTable[key]/total)*100\n",
    "        percentageTable[key] = percentage\n",
    "        \n",
    "    return percentageTable\n",
    "\n",
    "def displayTable(dataSet, index):\n",
    "    table = genFreqTable(dataSet, index)\n",
    "    displayTable = []\n",
    "    for key in table:\n",
    "        kvPair = (table[key], key)\n",
    "        displayTable.append(kvPair)\n",
    "        \n",
    "    sortedTable = sorted(displayTable, reverse = True)\n",
    "    for entry in sortedTable:\n",
    "        print(entry[1], \" : \" , entry[0])\n",
    "        \n",
    "displayTable(iOSFreeApps, -5)"
   ]
  },
  {
   "cell_type": "markdown",
   "metadata": {},
   "source": [
    "At this point, we now want to figure out which genres are the most popular/have the most users. For the Google Play data, we can use the \"Installs\" column, but for the App Store, we'll use rating_count_tot as a proxy.\n",
    "\n",
    "We'll begin by calculating the average number of user ratings per app genre. To do that, we'll need to:\n",
    "\n",
    "1. Isolate the apps of each genre\n",
    "2. Sum up the user ratings for the apps of that genre\n",
    "3. Divide by the sum of apps belonging to that genre"
   ]
  },
  {
   "cell_type": "code",
   "execution_count": 91,
   "metadata": {
    "collapsed": false
   },
   "outputs": [
    {
     "ename": "TypeError",
     "evalue": "type str doesn't define __round__ method",
     "output_type": "error",
     "traceback": [
      "\u001b[1;31m\u001b[0m",
      "\u001b[1;31mTypeError\u001b[0mTraceback (most recent call last)",
      "\u001b[1;32m<ipython-input-91-bdd8a1891752>\u001b[0m in \u001b[0;36m<module>\u001b[1;34m()\u001b[0m\n\u001b[0;32m      8\u001b[0m         \u001b[0mappGenre\u001b[0m \u001b[1;33m=\u001b[0m \u001b[0mapp\u001b[0m\u001b[1;33m[\u001b[0m\u001b[1;33m-\u001b[0m\u001b[1;36m5\u001b[0m\u001b[1;33m]\u001b[0m\u001b[1;33m\u001b[0m\u001b[0m\n\u001b[0;32m      9\u001b[0m         \u001b[1;32mif\u001b[0m \u001b[0mappGenre\u001b[0m \u001b[1;33m==\u001b[0m \u001b[0mgenre\u001b[0m\u001b[1;33m:\u001b[0m\u001b[1;33m\u001b[0m\u001b[0m\n\u001b[1;32m---> 10\u001b[1;33m             \u001b[0mnumRatings\u001b[0m \u001b[1;33m=\u001b[0m \u001b[0mround\u001b[0m\u001b[1;33m(\u001b[0m\u001b[0mint\u001b[0m\u001b[1;33m(\u001b[0m\u001b[0mround\u001b[0m\u001b[1;33m(\u001b[0m\u001b[0mapp\u001b[0m\u001b[1;33m[\u001b[0m\u001b[1;36m5\u001b[0m\u001b[1;33m]\u001b[0m\u001b[1;33m)\u001b[0m\u001b[1;33m)\u001b[0m\u001b[1;33m)\u001b[0m\u001b[1;33m\u001b[0m\u001b[0m\n\u001b[0m\u001b[0;32m     11\u001b[0m             \u001b[0mtotal\u001b[0m \u001b[1;33m+=\u001b[0m \u001b[0mnumRatings\u001b[0m\u001b[1;33m\u001b[0m\u001b[0m\n\u001b[0;32m     12\u001b[0m             \u001b[0mtotalForGenre\u001b[0m \u001b[1;33m+=\u001b[0m \u001b[1;36m1\u001b[0m\u001b[1;33m\u001b[0m\u001b[0m\n",
      "\u001b[1;31mTypeError\u001b[0m: type str doesn't define __round__ method"
     ]
    }
   ],
   "source": [
    "iOSGenres = genFreqTable(iOSFreeApps, -5)\n",
    "\n",
    "displayedTable = [] \n",
    "for genre in iOSGenres:\n",
    "    total = 0\n",
    "    totalForGenre = 0\n",
    "    for app in iOSFreeApps:\n",
    "        appGenre = app[-5]\n",
    "        if appGenre == genre:\n",
    "            numRatings = round(int(round(app[5])))\n",
    "            total += numRatings\n",
    "            totalForGenre += 1\n",
    "    avgRating = total/totalForGenre\n",
    "    kvPair =  (genre, avgRating)  \n",
    "    #print(kvPair)\n",
    "    displayedTable.append(kvPair)\n",
    "    \n",
    "# To sort a list of tuples by value, use a lambda function\n",
    "# (or import itemgetter but I didn't do that.)\n",
    "# key is a function that identifies how to retrieve a\n",
    "sortedTable = sorted(displayedTable, key=lambda x: x[1], reverse = True)\n",
    "for entry in sortedTable:\n",
    "        print(entry[0], ':', entry[1])\n",
    " \n",
    "\n",
    "    "
   ]
  },
  {
   "cell_type": "code",
   "execution_count": null,
   "metadata": {
    "collapsed": true
   },
   "outputs": [],
   "source": []
  },
  {
   "cell_type": "code",
   "execution_count": null,
   "metadata": {
    "collapsed": true
   },
   "outputs": [],
   "source": []
  }
 ],
 "metadata": {
  "kernelspec": {
   "display_name": "Python 3",
   "language": "python",
   "name": "python3"
  },
  "language_info": {
   "codemirror_mode": {
    "name": "ipython",
    "version": 3
   },
   "file_extension": ".py",
   "mimetype": "text/x-python",
   "name": "python",
   "nbconvert_exporter": "python",
   "pygments_lexer": "ipython3",
   "version": "3.4.3"
  }
 },
 "nbformat": 4,
 "nbformat_minor": 2
}
